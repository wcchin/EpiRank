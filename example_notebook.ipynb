{
 "cells": [
  {
   "cell_type": "markdown",
   "metadata": {},
   "source": [
    "import the module for epirank calculation  \n",
    "and additional analysis for ht-break"
   ]
  },
  {
   "cell_type": "code",
   "execution_count": 1,
   "metadata": {},
   "outputs": [],
   "source": [
    "from EpiRank import epirank\n",
    "from EpiRank import additional_analysis as aa"
   ]
  },
  {
   "cell_type": "markdown",
   "metadata": {},
   "source": [
    "import pandas for reading csv"
   ]
  },
  {
   "cell_type": "code",
   "execution_count": 2,
   "metadata": {},
   "outputs": [],
   "source": [
    "import pandas as pd"
   ]
  },
  {
   "cell_type": "markdown",
   "metadata": {},
   "source": [
    "read the OD flow list csv"
   ]
  },
  {
   "cell_type": "code",
   "execution_count": 3,
   "metadata": {},
   "outputs": [
    {
     "data": {
      "text/html": [
       "<div>\n",
       "<style scoped>\n",
       "    .dataframe tbody tr th:only-of-type {\n",
       "        vertical-align: middle;\n",
       "    }\n",
       "\n",
       "    .dataframe tbody tr th {\n",
       "        vertical-align: top;\n",
       "    }\n",
       "\n",
       "    .dataframe thead th {\n",
       "        text-align: right;\n",
       "    }\n",
       "</style>\n",
       "<table border=\"1\" class=\"dataframe\">\n",
       "  <thead>\n",
       "    <tr style=\"text-align: right;\">\n",
       "      <th></th>\n",
       "      <th>origin</th>\n",
       "      <th>destination</th>\n",
       "      <th>flow</th>\n",
       "    </tr>\n",
       "    <tr>\n",
       "      <th>ind</th>\n",
       "      <th></th>\n",
       "      <th></th>\n",
       "      <th></th>\n",
       "    </tr>\n",
       "  </thead>\n",
       "  <tbody>\n",
       "    <tr>\n",
       "      <th>0</th>\n",
       "      <td>p02</td>\n",
       "      <td>s08</td>\n",
       "      <td>2.0</td>\n",
       "    </tr>\n",
       "    <tr>\n",
       "      <th>1</th>\n",
       "      <td>m14</td>\n",
       "      <td>f13</td>\n",
       "      <td>3.0</td>\n",
       "    </tr>\n",
       "    <tr>\n",
       "      <th>2</th>\n",
       "      <td>g10</td>\n",
       "      <td>r27</td>\n",
       "      <td>5.0</td>\n",
       "    </tr>\n",
       "    <tr>\n",
       "      <th>3</th>\n",
       "      <td>n16</td>\n",
       "      <td>n16</td>\n",
       "      <td>24824.0</td>\n",
       "    </tr>\n",
       "    <tr>\n",
       "      <th>4</th>\n",
       "      <td>i15</td>\n",
       "      <td>i10</td>\n",
       "      <td>1455.0</td>\n",
       "    </tr>\n",
       "  </tbody>\n",
       "</table>\n",
       "</div>"
      ],
      "text/plain": [
       "    origin destination     flow\n",
       "ind                            \n",
       "0      p02         s08      2.0\n",
       "1      m14         f13      3.0\n",
       "2      g10         r27      5.0\n",
       "3      n16         n16  24824.0\n",
       "4      i15         i10   1455.0"
      ]
     },
     "execution_count": 3,
     "metadata": {},
     "output_type": "execute_result"
    }
   ],
   "source": [
    "df = pd.read_csv('od_flow_data.csv', index_col=0)\n",
    "df.head()"
   ]
  },
  {
   "cell_type": "markdown",
   "metadata": {},
   "source": [
    "use the dataframe as the input data, and the origin & destination & flow column names to tell the function which columns to be used"
   ]
  },
  {
   "cell_type": "code",
   "execution_count": 5,
   "metadata": {},
   "outputs": [
    {
     "name": "stdout",
     "output_type": "stream",
     "text": [
      "graph construction done, no. nodes: 353, no. edges: 11220\n"
     ]
    }
   ],
   "source": [
    "g = epirank.make_DiGraph(df, origin_col='origin', destination_col='destination', flow_col='flow', \n",
    "                         largest_connected_component=False, exclude_selfloop=False)"
   ]
  },
  {
   "cell_type": "markdown",
   "metadata": {},
   "source": [
    "calculate the epirank values, the return result is a dictionary, using the name (as used in the origin & destination column) as key"
   ]
  },
  {
   "cell_type": "code",
   "execution_count": 6,
   "metadata": {},
   "outputs": [
    {
     "name": "stdout",
     "output_type": "stream",
     "text": [
      "start preparing matrices\n",
      "preparation done, start iterating\n",
      "epirank calculation done after iteration: 582\n"
     ]
    }
   ],
   "source": [
    "epi_vals05 = epirank.run_epirank(g, daytime=0.5, d=0.95)"
   ]
  },
  {
   "cell_type": "markdown",
   "metadata": {},
   "source": [
    "example of the epirank values result"
   ]
  },
  {
   "cell_type": "code",
   "execution_count": 7,
   "metadata": {},
   "outputs": [
    {
     "name": "stdout",
     "output_type": "stream",
     "text": [
      "('p03', 0.0033083325005305096)\n",
      "('p02', 0.0020524926040357593)\n",
      "('p01', 0.0019886807046860197)\n",
      "('p00', 0.0012442006601192366)\n",
      "('p07', 0.0018439081819484687)\n",
      "('p06', 0.002367504699376915)\n",
      "('p05', 0.0021904461460779115)\n",
      "('p04', 0.0019319581884217052)\n",
      "('p09', 0.0022304695113556272)\n",
      "('p08', 0.0019041794044252912)\n"
     ]
    }
   ],
   "source": [
    "for k,v in epi_vals05.items()[:10]:\n",
    "    print(k,v)"
   ]
  },
  {
   "cell_type": "markdown",
   "metadata": {},
   "source": [
    "convert the result to groups using HT-break (head/tail break)"
   ]
  },
  {
   "cell_type": "code",
   "execution_count": 8,
   "metadata": {},
   "outputs": [
    {
     "name": "stdout",
     "output_type": "stream",
     "text": [
      "237 68 31 17\n"
     ]
    }
   ],
   "source": [
    "gb1,bb = aa.htbreak(epi_vals05)\n",
    "gb2 = [ v for k,v in gb1.iteritems() ]\n",
    "print(gb2.count(0), gb2.count(1), gb2.count(2), gb2.count(3))"
   ]
  },
  {
   "cell_type": "markdown",
   "metadata": {},
   "source": [
    "the group result"
   ]
  },
  {
   "cell_type": "code",
   "execution_count": 9,
   "metadata": {},
   "outputs": [
    {
     "name": "stdout",
     "output_type": "stream",
     "text": [
      "('p03', 1)\n",
      "('p02', 0)\n",
      "('p01', 0)\n",
      "('p00', 0)\n",
      "('p07', 0)\n",
      "('p06', 0)\n",
      "('p05', 0)\n",
      "('p04', 0)\n",
      "('p09', 0)\n",
      "('p08', 0)\n"
     ]
    }
   ],
   "source": [
    "for k,v in gb1.items()[:10]:\n",
    "    print(k,v)"
   ]
  },
  {
   "cell_type": "code",
   "execution_count": null,
   "metadata": {},
   "outputs": [],
   "source": []
  }
 ],
 "metadata": {
  "kernelspec": {
   "display_name": "Python 2",
   "language": "python",
   "name": "python2"
  },
  "language_info": {
   "codemirror_mode": {
    "name": "ipython",
    "version": 2
   },
   "file_extension": ".py",
   "mimetype": "text/x-python",
   "name": "python",
   "nbconvert_exporter": "python",
   "pygments_lexer": "ipython2",
   "version": "2.7.15"
  }
 },
 "nbformat": 4,
 "nbformat_minor": 2
}
